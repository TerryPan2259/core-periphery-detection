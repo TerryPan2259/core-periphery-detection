{
  "nbformat_minor": 0,
  "cells": [
    {
      "cell_type": "code",
      "outputs": [],
      "metadata": {
        "collapsed": false
      },
      "source": [
        "%matplotlib inline"
      ],
      "execution_count": null
    },
    {
      "cell_type": "markdown",
      "source": [
        "Detect core-periphery structure in empirical networks.\n\n\n"
      ],
      "metadata": {}
    },
    {
      "cell_type": "code",
      "outputs": [],
      "metadata": {
        "collapsed": false
      },
      "source": [
        "import cpalgorithm as cp\nimport scipy.stats as stats\nimport networkx as nx\nimport cpalgorithm as cpa\nimport numpy as np \nimport sys\n\n# load graph \nG = nx.karate_club_graph()\nG = G.to_undirected()\n\n# load algorithm\nalg = cpa.BE()\n\n# Core-periphery detection\nalg.detect(G)\n\nprint(\"core-periphery IDs\")\nprint(alg.get_pair_id())\n\nprint(\"Coreness \")\nprint(alg.get_coreness())"
      ],
      "execution_count": null
    }
  ],
  "metadata": {
    "language_info": {
      "version": "3.5.2",
      "mimetype": "text/x-python",
      "file_extension": ".py",
      "pygments_lexer": "ipython3",
      "nbconvert_exporter": "python",
      "name": "python",
      "codemirror_mode": {
        "version": 3,
        "name": "ipython"
      }
    },
    "kernelspec": {
      "language": "python",
      "display_name": "Python 3",
      "name": "python3"
    }
  },
  "nbformat": 4
}