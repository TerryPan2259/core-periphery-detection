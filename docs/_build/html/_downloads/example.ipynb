{
  "metadata": {
    "language_info": {
      "pygments_lexer": "ipython3",
      "version": "3.5.2",
      "name": "python",
      "mimetype": "text/x-python",
      "file_extension": ".py",
      "nbconvert_exporter": "python",
      "codemirror_mode": {
        "version": 3,
        "name": "ipython"
      }
    },
    "kernelspec": {
      "name": "python3",
      "language": "python",
      "display_name": "Python 3"
    }
  },
  "nbformat_minor": 0,
  "nbformat": 4,
  "cells": [
    {
      "metadata": {
        "collapsed": false
      },
      "cell_type": "code",
      "outputs": [],
      "source": [
        "%matplotlib inline"
      ],
      "execution_count": null
    },
    {
      "metadata": {},
      "cell_type": "markdown",
      "source": [
        "Detect core-periphery structure in empirical networks.\n\n\n"
      ]
    },
    {
      "metadata": {
        "collapsed": false
      },
      "cell_type": "code",
      "outputs": [],
      "source": [
        "import cpalgorithm as cp\nimport scipy.stats as stats\nimport networkx as nx\nimport cpalgorithm as cpa\nimport numpy as np \nimport sys\n\n# load graph \nG = nx.karate_club_graph()\nG = G.to_undirected()\n\n# load algorithm\nalg = cpa.BE()\n\n# Core-periphery detection\nalg.detect(G)\n\nprint(\"core-periphery IDs\")\nprint(alg.get_pair_id())\n\nprint(\"Coreness \")\nprint(alg.get_coreness())"
      ],
      "execution_count": null
    }
  ]
}