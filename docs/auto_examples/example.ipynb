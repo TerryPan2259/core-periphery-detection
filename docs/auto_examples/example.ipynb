{
  "cells": [
    {
      "source": [
        "%matplotlib inline"
      ],
      "metadata": {
        "collapsed": false
      },
      "cell_type": "code",
      "execution_count": null,
      "outputs": []
    },
    {
      "metadata": {},
      "cell_type": "markdown",
      "source": [
        "\n# Borgatti Everett algorithm\n\nExample of parallel implementation of betweenness centrality using the\nmultiprocessing module from Python Standard Library.\nThe function betweenness centrality accepts a bunch of nodes and computes\nthe contribution of those nodes to the betweenness centrality of the whole\nnetwork. Here we divide the network in chunks of nodes and we compute their\ncontribution to the betweenness centrality of the whole network.\nThis doesn't work in python2.7.13. It does work in 3.6, 3.5, 3.4, and 3.3.\nIt may be related to this:\nhttps://stackoverflow.com/questions/1816958/cant-pickle-type-instancemethod-when-using-multiprocessing-pool-map\n\n"
      ]
    },
    {
      "source": [
        "import csv\nimport numpy as np\nimport pandas as pd\nimport networkx as nx\nimport _cpalgorithm as _cp\nimport cpalgorithm as cp\n\nG=nx.karate_club_graph()\n#G=nx.florentine_families_graph()\n#df = pd.read_csv(\"karate.dat\", sep='\\t');\n#G = nx.from_pandas_edgelist(df, \"source\", 'target', 'weight')\n\nbe = cp.BE()\n\nQ = []\nbe.detect(G)\nc = be.get_pair_id()\nx = be.is_core()\n\nprint(sum(be.score()))\n\n#significance, p_values, q_tilde, s_tilde = cp.qstest(c, x, G, be, num_of_thread = 4, null_model = cp.erdos_renyi)\nprint(c,x)\n#print(significance, p_values)"
      ],
      "metadata": {
        "collapsed": false
      },
      "cell_type": "code",
      "execution_count": null,
      "outputs": []
    }
  ],
  "metadata": {
    "language_info": {
      "version": "3.5.2",
      "pygments_lexer": "ipython3",
      "codemirror_mode": {
        "version": 3,
        "name": "ipython"
      },
      "nbconvert_exporter": "python",
      "mimetype": "text/x-python",
      "file_extension": ".py",
      "name": "python"
    },
    "kernelspec": {
      "language": "python",
      "display_name": "Python 3",
      "name": "python3"
    }
  },
  "nbformat_minor": 0,
  "nbformat": 4
}