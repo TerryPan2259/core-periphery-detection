{
  "nbformat": 4,
  "metadata": {
    "language_info": {
      "codemirror_mode": {
        "name": "ipython",
        "version": 3
      },
      "file_extension": ".py",
      "name": "python",
      "pygments_lexer": "ipython3",
      "version": "3.5.2",
      "mimetype": "text/x-python",
      "nbconvert_exporter": "python"
    },
    "kernelspec": {
      "language": "python",
      "display_name": "Python 3",
      "name": "python3"
    }
  },
  "cells": [
    {
      "outputs": [],
      "metadata": {
        "collapsed": false
      },
      "source": [
        "%matplotlib inline"
      ],
      "cell_type": "code",
      "execution_count": null
    },
    {
      "metadata": {},
      "cell_type": "markdown",
      "source": [
        "Detect core-periphery structure in empirical networks.\n\n\n"
      ]
    },
    {
      "outputs": [],
      "metadata": {
        "collapsed": false
      },
      "source": [
        "import cpalgorithm as cp\nimport scipy.stats as stats\nimport networkx as nx\nimport cpalgorithm as cpa\nimport numpy as np \nimport sys\n\n# load graph \nG = nx.karate_club_graph()\nG = G.to_undirected()\n\n# load algorithm\nalg = cpa.BE()\n\n# Core-periphery detection\nalg.detect(G)\n\nprint(\"core-periphery IDs\")\nprint(alg.get_pair_id())\n\nprint(\"Coreness \")\nprint(alg.get_coreness())"
      ],
      "cell_type": "code",
      "execution_count": null
    }
  ],
  "nbformat_minor": 0
}