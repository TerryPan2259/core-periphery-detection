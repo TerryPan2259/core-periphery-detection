{
  "nbformat": 4,
  "nbformat_minor": 0,
  "metadata": {
    "language_info": {
      "mimetype": "text/x-python",
      "version": "3.5.2",
      "codemirror_mode": {
        "version": 3,
        "name": "ipython"
      },
      "name": "python",
      "nbconvert_exporter": "python",
      "file_extension": ".py",
      "pygments_lexer": "ipython3"
    },
    "kernelspec": {
      "language": "python",
      "name": "python3",
      "display_name": "Python 3"
    }
  },
  "cells": [
    {
      "outputs": [],
      "source": [
        "%matplotlib inline"
      ],
      "cell_type": "code",
      "execution_count": null,
      "metadata": {
        "collapsed": false
      }
    },
    {
      "source": [
        "Detect core-periphery structure in empirical networks.\n\n\n"
      ],
      "cell_type": "markdown",
      "metadata": {}
    },
    {
      "outputs": [],
      "source": [
        "import cpalgorithm as cp\nimport scipy.stats as stats\nimport networkx as nx\nimport cpalgorithm as cpa\nimport numpy as np \nimport sys\n\n# load graph \nG = nx.karate_club_graph()\nG = G.to_undirected()\n\n# load algorithm\nalg = cpa.BE()\n\n# Core-periphery detection\nalg.detect(G)\n\nprint(\"core-periphery IDs\")\nprint(alg.get_pair_id())\n\nprint(\"Coreness \")\nprint(alg.get_coreness())"
      ],
      "cell_type": "code",
      "execution_count": null,
      "metadata": {
        "collapsed": false
      }
    }
  ]
}